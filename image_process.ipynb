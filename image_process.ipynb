{
 "cells": [
  {
   "cell_type": "markdown",
   "id": "fbb17f2b-132b-445d-ac87-67361c0fc287",
   "metadata": {},
   "source": [
    "# Deterioração de Imagem Utilizando Blur"
   ]
  },
  {
   "cell_type": "markdown",
   "id": "1902e314-0581-4952-b9d1-7472ef5235fc",
   "metadata": {},
   "source": [
    "## 1. Orientações para utilizar este notebook"
   ]
  },
  {
   "cell_type": "markdown",
   "id": "820176b6-4ec0-4e53-b13b-04d7805861fe",
   "metadata": {},
   "source": [
    "Este pipeline tem o objetivo de gerar imagens deterioradas de lesões de pele com o objetivo de diversificar e aumentar o dataset."
   ]
  },
  {
   "cell_type": "markdown",
   "id": "bffbc6d4-43e0-4914-9151-b21a1ed9209a",
   "metadata": {},
   "source": [
    "Para utilizá-lo é nececessário acrescentar os seguintes campos no arquivo `config.json`:"
   ]
  },
  {
   "cell_type": "markdown",
   "id": "e16a7919-a0fd-437c-8022-6d9be64b001e",
   "metadata": {},
   "source": [
    "```json\n",
    "{\n",
    "    \"imgs_to_be_processed_full_path\": \"path/to/dir\",\n",
    "    \"imgs_processed_save_folder_full_path\": \"path/to/dir\"\n",
    "}\n",
    "```"
   ]
  },
  {
   "cell_type": "markdown",
   "id": "3635f31e-0dc2-458d-8443-74176bf86b34",
   "metadata": {},
   "source": [
    "O campo `imgs_to_be_processed_full_path` representa o caminho para o diretório onde estão as imagens a serem deterioradas, enquanto `imgs_processed_save_folder_full_path` diz respeito ao caminho para o diretório onde as imagens processadas serão salvas."
   ]
  },
  {
   "cell_type": "markdown",
   "id": "737f9390-8a73-4ff1-827b-bf8029c4ce30",
   "metadata": {},
   "source": [
    "O pipeline irá aplicar o transform especificado para todas as imagens do diretório indicado. Porém, é fortemente recomendada uma inspeção à olho humano, pois existem imagens que ainda podem apresentar boa qualidade após aplica o blur, dependendo da sua iluminação e características."
   ]
  },
  {
   "cell_type": "markdown",
   "id": "84a8c4f3-7cbd-4d91-b2ae-ef5948bc8160",
   "metadata": {},
   "source": [
    "**Observação importante**: em hipótese alguma poderão ser deterioradas imagens em que suas originais serão utilizadas no treinamento, para evitar vazamento de dados!!!"
   ]
  },
  {
   "cell_type": "markdown",
   "id": "21f40325-2603-46da-a48a-82fe77eae068",
   "metadata": {},
   "source": [
    "### Exemplo"
   ]
  },
  {
   "cell_type": "markdown",
   "id": "f69aa349-2a0a-4176-ab91-dc2bb1fd01a6",
   "metadata": {},
   "source": [
    "<img src=\"./assets/blur_example.png\">"
   ]
  },
  {
   "cell_type": "markdown",
   "id": "e4698280-47b8-45d1-97bc-7cbb5857e564",
   "metadata": {},
   "source": [
    "## 2. Pipeline"
   ]
  },
  {
   "cell_type": "code",
   "execution_count": null,
   "id": "21cf80e4-a756-4710-8366-f8a84c2e50db",
   "metadata": {},
   "outputs": [],
   "source": [
    "from PIL import Image\n",
    "import json\n",
    "import os\n",
    "from glob import glob\n",
    "import numpy as np\n",
    "import torchvision.transforms as transforms"
   ]
  },
  {
   "cell_type": "code",
   "execution_count": null,
   "id": "1d95ab6d-7ec9-4577-8506-584c563ac499",
   "metadata": {},
   "outputs": [],
   "source": [
    "with open(\"./config.json\") as json_file:\n",
    "    _CONFIG = json.load(json_file)\n",
    "\n",
    "path = _CONFIG['imgs_to_be_processed_full_path']\n",
    "path"
   ]
  },
  {
   "cell_type": "markdown",
   "id": "bc8849a9-67d6-4dc4-af12-d50affa4722d",
   "metadata": {},
   "source": [
    "A próxima célula coleta todas as imagens do diretório e define uma imagem de exemplo:"
   ]
  },
  {
   "cell_type": "code",
   "execution_count": null,
   "id": "a2fa4825-4ca8-4d25-89bf-3a530e6a08ce",
   "metadata": {},
   "outputs": [],
   "source": [
    "imgs_path = glob(os.path.join(path, \"*.png\"))\n",
    "image = Image.open(imgs_path[0])\n",
    "print(imgs_path[0])\n",
    "image"
   ]
  },
  {
   "cell_type": "markdown",
   "id": "cc768e3e-968f-4f0a-ab2f-99ab5e4aea2e",
   "metadata": {},
   "source": [
    "Definindo o transform. Ajuste conforme seu interesse."
   ]
  },
  {
   "cell_type": "code",
   "execution_count": null,
   "id": "96c913f4-cd86-496f-b23e-b1b5b6570cb6",
   "metadata": {},
   "outputs": [],
   "source": [
    "transform = transforms.GaussianBlur(23, sigma=30)"
   ]
  },
  {
   "cell_type": "markdown",
   "id": "6cb5ef24-69a1-4dcb-8f95-02e9ea619cf1",
   "metadata": {},
   "source": [
    "Aplicando a transformação para a imagem de exemplo:"
   ]
  },
  {
   "cell_type": "code",
   "execution_count": null,
   "id": "5e6c8bac-bad2-4084-8325-236477fa4074",
   "metadata": {},
   "outputs": [],
   "source": [
    "transform(image)"
   ]
  },
  {
   "cell_type": "markdown",
   "id": "2f3314b7-eb23-415b-9a1c-31dec0dbf7b2",
   "metadata": {},
   "source": [
    "Obtendo o caminho do diretório destino:"
   ]
  },
  {
   "cell_type": "code",
   "execution_count": null,
   "id": "ea04c398-d800-4859-8f5a-c315c2c3905d",
   "metadata": {},
   "outputs": [],
   "source": [
    "imgs_processed_save_folder = _CONFIG['imgs_processed_save_folder_full_path']\n",
    "imgs_processed_save_folder"
   ]
  },
  {
   "cell_type": "markdown",
   "id": "c0312f5c-3bee-4c65-9d18-4e32919557cb",
   "metadata": {},
   "source": [
    "Aplicando a transformação para todas as imagens e salvando-as no diretório destino:"
   ]
  },
  {
   "cell_type": "code",
   "execution_count": null,
   "id": "1cca9b4d-af5b-4599-9080-2fb14c19d30b",
   "metadata": {},
   "outputs": [],
   "source": [
    "for img_path in imgs_path:\n",
    "    image = Image.open(img_path)\n",
    "    img_modified = transform(image)\n",
    "    img_modified.save(os.path.join(imgs_processed_save_folder, f\"processed_{os.path.basename(img_path)}\"))\n",
    "    img_modified.close()"
   ]
  }
 ],
 "metadata": {
  "kernelspec": {
   "display_name": "Python 3 (ipykernel)",
   "language": "python",
   "name": "python3"
  },
  "language_info": {
   "codemirror_mode": {
    "name": "ipython",
    "version": 3
   },
   "file_extension": ".py",
   "mimetype": "text/x-python",
   "name": "python",
   "nbconvert_exporter": "python",
   "pygments_lexer": "ipython3",
   "version": "3.13.2"
  }
 },
 "nbformat": 4,
 "nbformat_minor": 5
}
